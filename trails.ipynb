{
 "cells": [
  {
   "cell_type": "code",
   "execution_count": 12,
   "id": "22ccfa3f",
   "metadata": {},
   "outputs": [],
   "source": [
    "from langchain import PromptTemplate\n",
    "from langchain.chains import retrieval_qa\n",
    "from langchain.embeddings import HuggingFaceEmbeddings\n",
    "\n",
    "from langchain.vectorstores import Pinecone \n",
    "import pinecone\n",
    "from langchain.document_loaders import PyPDFLoader,UnstructuredPDFLoader,DirectoryLoader\n",
    "from langchain.text_splitter import RecursiveCharacterTextSplitter\n",
    "from langchain.prompts import PromptTemplate\n",
    "from langchain.llms import CTransformers\n",
    "import os\n"
   ]
  },
  {
   "cell_type": "code",
   "execution_count": 13,
   "id": "18c2e60f",
   "metadata": {},
   "outputs": [],
   "source": [
    "PINECONE_API_KEY=\"pcsk_4kxZVA_HufLXNBvzwT3gQK1xGnefCMwLGQT9EnqqcaR39VoUa3UVKf1W3zB4ip1BJSNRn4\"\n",
    "PINECONE_API_ENV=\"us-east-1\""
   ]
  },
  {
   "cell_type": "code",
   "execution_count": 14,
   "id": "451d8a85",
   "metadata": {},
   "outputs": [],
   "source": [
    "# extract the data from pdf\n",
    "def load_pdf(data):\n",
    "    loader = DirectoryLoader(\n",
    "        data,\n",
    "        glob=\"*.pdf\",\n",
    "        loader_cls=PyPDFLoader\n",
    "    )\n",
    "    document = loader.load()\n",
    "    return document"
   ]
  },
  {
   "cell_type": "code",
   "execution_count": 15,
   "id": "475ad320",
   "metadata": {},
   "outputs": [],
   "source": [
    "extra_data=load_pdf(\"data/\")"
   ]
  },
  {
   "cell_type": "code",
   "execution_count": 16,
   "id": "3eda58f0",
   "metadata": {},
   "outputs": [],
   "source": [
    "# extra_data"
   ]
  },
  {
   "cell_type": "code",
   "execution_count": 17,
   "id": "53d215ff",
   "metadata": {},
   "outputs": [
    {
     "name": "stdout",
     "output_type": "stream",
     "text": [
      "Split into 59 chunks.\n"
     ]
    }
   ],
   "source": [
    "# Use the already loaded extra_data variable\n",
    "documents = extra_data\n",
    "# Split text into chunks\n",
    "splitter = RecursiveCharacterTextSplitter(chunk_size=200, chunk_overlap=20)\n",
    "chunks = splitter.split_documents(documents)\n",
    "print(f\"Split into {len(chunks)} chunks.\")\n"
   ]
  },
  {
   "cell_type": "code",
   "execution_count": 18,
   "id": "5a3c89c7",
   "metadata": {},
   "outputs": [],
   "source": [
    "# download embedding the model\n",
    "def downloading_hugging_face_embedding():\n",
    "    embedding=HuggingFaceEmbeddings(model_name=\"sentence-transformers/all-MiniLM-L6-v2\")\n",
    "    return embedding"
   ]
  },
  {
   "cell_type": "code",
   "execution_count": 19,
   "id": "12617f4d",
   "metadata": {},
   "outputs": [],
   "source": [
    "embeddings=downloading_hugging_face_embedding()"
   ]
  },
  {
   "cell_type": "code",
   "execution_count": 20,
   "id": "b70348db",
   "metadata": {},
   "outputs": [
    {
     "ename": "TypeError",
     "evalue": "Pinecone.__init__() got an unexpected keyword argument 'api_key'",
     "output_type": "error",
     "traceback": [
      "\u001b[31m---------------------------------------------------------------------------\u001b[39m",
      "\u001b[31mTypeError\u001b[39m                                 Traceback (most recent call last)",
      "\u001b[36mCell\u001b[39m\u001b[36m \u001b[39m\u001b[32mIn[20]\u001b[39m\u001b[32m, line 7\u001b[39m\n\u001b[32m      4\u001b[39m index_host = \u001b[33m\"\u001b[39m\u001b[33mexam-buddy01-cl36507.svc.aped-4627-b74a.pinecone.io\u001b[39m\u001b[33m\"\u001b[39m\n\u001b[32m      6\u001b[39m \u001b[38;5;66;03m# ✅ Create the new Pinecone client\u001b[39;00m\n\u001b[32m----> \u001b[39m\u001b[32m7\u001b[39m pc = \u001b[43mPinecone\u001b[49m\u001b[43m(\u001b[49m\u001b[43mapi_key\u001b[49m\u001b[43m=\u001b[49m\u001b[43mPINECONE_API_KEY\u001b[49m\u001b[43m)\u001b[49m\n\u001b[32m      9\u001b[39m \u001b[38;5;66;03m# ✅ Connect to the index with the custom host\u001b[39;00m\n\u001b[32m     10\u001b[39m index = pc.Index(index_name, host=index_host)\n",
      "\u001b[31mTypeError\u001b[39m: Pinecone.__init__() got an unexpected keyword argument 'api_key'"
     ]
    }
   ],
   "source": [
    "PINECONE_API_KEY = \"pcsk_4kxZVA_HufLXNBvzwT3gQK1xGnefCMwLGQT9EnqqcaR39VoUa3UVKf1W3zB4ip1BJSNRn4\"\n",
    "\n",
    "index_name = \"exam-buddy01\"\n",
    "index_host = \"exam-buddy01-cl36507.svc.aped-4627-b74a.pinecone.io\"\n",
    "\n",
    "# ✅ Create the new Pinecone client\n",
    "pc = Pinecone(api_key=PINECONE_API_KEY)\n",
    "\n",
    "# ✅ Connect to the index with the custom host\n",
    "index = pc.Index(index_name, host=index_host)\n",
    "\n",
    "print(\"✅ Pinecone index connected!\")\n",
    "print(index.describe_index_stats())"
   ]
  }
 ],
 "metadata": {
  "kernelspec": {
   "display_name": "Python 3",
   "language": "python",
   "name": "python3"
  },
  "language_info": {
   "codemirror_mode": {
    "name": "ipython",
    "version": 3
   },
   "file_extension": ".py",
   "mimetype": "text/x-python",
   "name": "python",
   "nbconvert_exporter": "python",
   "pygments_lexer": "ipython3",
   "version": "3.11.9"
  }
 },
 "nbformat": 4,
 "nbformat_minor": 5
}
